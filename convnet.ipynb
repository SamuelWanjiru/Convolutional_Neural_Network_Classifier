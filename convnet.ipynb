{
 "cells": [
  {
   "cell_type": "markdown",
   "metadata": {
    "id": "oureC-tQogf4"
   },
   "source": [
    "# **Convolutional Neural Networks: Image classification**"
   ]
  },
  {
   "cell_type": "code",
   "execution_count": 20,
   "metadata": {},
   "outputs": [],
   "source": [
    "import os, warnings\n",
    "import pandas as pd\n",
    "import matplotlib.pyplot as plt\n",
    "from matplotlib import gridspec"
   ]
  },
  {
   "cell_type": "code",
   "execution_count": 2,
   "metadata": {},
   "outputs": [],
   "source": [
    "import numpy as np\n",
    "import tensorflow as tf\n",
    "from tensorflow.keras.preprocessing import image_dataset_from_directory"
   ]
  },
  {
   "cell_type": "markdown",
   "metadata": {},
   "source": [
    "#### Setting seed for reproducability"
   ]
  },
  {
   "cell_type": "code",
   "execution_count": 3,
   "metadata": {},
   "outputs": [],
   "source": [
    "def set_seed(seed=31415):\n",
    "    np.random.seed(seed)\n",
    "    tf.random.set_seed(seed)\n",
    "    os.environ['PYTHONHASHSEED'] = str(seed)\n",
    "    os.environ['TF_DETERMINISTIC_OPS'] = '1'\n",
    "set_seed(31415)"
   ]
  },
  {
   "cell_type": "markdown",
   "metadata": {},
   "source": [
    "### Setting matplotlib defaults"
   ]
  },
  {
   "cell_type": "code",
   "execution_count": 4,
   "metadata": {},
   "outputs": [],
   "source": [
    "plt.rc('figure', autolayout=True)\n",
    "plt.rc('axes', labelweight='bold', labelsize='large',\n",
    "       titleweight='bold', titlesize=18, titlepad=10)\n",
    "plt.rc('image', cmap='magma')\n",
    "warnings.filterwarnings(\"ignore\") # to clean up output cells"
   ]
  },
  {
   "cell_type": "markdown",
   "metadata": {},
   "source": [
    "## Loading the dataset"
   ]
  },
  {
   "cell_type": "code",
   "execution_count": 8,
   "metadata": {},
   "outputs": [
    {
     "name": "stdout",
     "output_type": "stream",
     "text": [
      "Found 5117 files belonging to 2 classes.\n",
      "Found 5051 files belonging to 2 classes.\n"
     ]
    }
   ],
   "source": [
    "ds_train_ = image_dataset_from_directory(\n",
    "    'Data/train',\n",
    "    labels='inferred',\n",
    "    label_mode='binary',\n",
    "    image_size=[128, 128],\n",
    "    interpolation='nearest',\n",
    "    batch_size=64,\n",
    "    shuffle=True,\n",
    ")\n",
    "ds_valid_ = image_dataset_from_directory(\n",
    "    'Data/valid',\n",
    "    labels='inferred',\n",
    "    label_mode='binary',\n",
    "    image_size=[128, 128],\n",
    "    interpolation='nearest',\n",
    "    batch_size=64,\n",
    "    shuffle=False,\n",
    ")"
   ]
  },
  {
   "cell_type": "markdown",
   "metadata": {},
   "source": [
    "### Data Pipeline"
   ]
  },
  {
   "cell_type": "code",
   "execution_count": 9,
   "metadata": {},
   "outputs": [],
   "source": [
    "def convert_to_float(image, label):\n",
    "    image = tf.image.convert_image_dtype(image, dtype=tf.float32)\n",
    "    return image, label\n",
    "\n",
    "AUTOTUNE = tf.data.experimental.AUTOTUNE\n",
    "ds_train = (\n",
    "    ds_train_\n",
    "    .map(convert_to_float)\n",
    "    .cache()\n",
    "    .prefetch(buffer_size=AUTOTUNE)\n",
    ")\n",
    "ds_valid = (\n",
    "    ds_valid_\n",
    "    .map(convert_to_float)\n",
    "    .cache()\n",
    "    .prefetch(buffer_size=AUTOTUNE)\n",
    ")"
   ]
  },
  {
   "cell_type": "markdown",
   "metadata": {},
   "source": [
    "### Define Pretrained Base\n",
    "\n",
    "Keras includes a variety models pretrained on ImageNet in its applications module. The pretrained model we'll use is called VGG16."
   ]
  },
  {
   "cell_type": "code",
   "execution_count": 16,
   "metadata": {},
   "outputs": [
    {
     "name": "stdout",
     "output_type": "stream",
     "text": [
      "WARNING:tensorflow:SavedModel saved prior to TF 2.5 detected when loading Keras model. Please ensure that you are saving the model with model.save() or tf.keras.models.save_model(), *NOT* tf.saved_model.save(). To confirm, there should be a file named \"keras_metadata.pb\" in the SavedModel directory.\n",
      "WARNING:tensorflow:No training configuration found in save file, so the model was *not* compiled. Compile it manually.\n"
     ]
    }
   ],
   "source": [
    "pretrained_base = tf.keras.models.load_model(\n",
    "    'Data/cv-course-models/vgg16-pretrained-base',\n",
    ")\n",
    "pretrained_base.trainable = False"
   ]
  },
  {
   "cell_type": "code",
   "execution_count": 24,
   "metadata": {},
   "outputs": [],
   "source": [
    "from tensorflow import keras\n",
    "from tensorflow.keras import layers\n",
    "\n",
    "model = keras.Sequential([\n",
    "    layers.Flatten(),\n",
    "    layers.Dense(6, activation='relu'),\n",
    "    layers.Dense(1, activation='sigmoid'),\n",
    "])"
   ]
  },
  {
   "cell_type": "code",
   "execution_count": 25,
   "metadata": {},
   "outputs": [
    {
     "name": "stdout",
     "output_type": "stream",
     "text": [
      "Epoch 1/30\n",
      "80/80 - 2s - loss: 0.6975 - binary_accuracy: 0.5744 - val_loss: 0.6894 - val_binary_accuracy: 0.5785\n",
      "Epoch 2/30\n",
      "80/80 - 1s - loss: 0.6878 - binary_accuracy: 0.5787 - val_loss: 0.6864 - val_binary_accuracy: 0.5785\n",
      "Epoch 3/30\n",
      "80/80 - 1s - loss: 0.6853 - binary_accuracy: 0.5787 - val_loss: 0.6844 - val_binary_accuracy: 0.5785\n",
      "Epoch 4/30\n",
      "80/80 - 1s - loss: 0.6836 - binary_accuracy: 0.5787 - val_loss: 0.6830 - val_binary_accuracy: 0.5785\n",
      "Epoch 5/30\n",
      "80/80 - 1s - loss: 0.6825 - binary_accuracy: 0.5787 - val_loss: 0.6821 - val_binary_accuracy: 0.5785\n",
      "Epoch 6/30\n",
      "80/80 - 1s - loss: 0.6818 - binary_accuracy: 0.5787 - val_loss: 0.6816 - val_binary_accuracy: 0.5785\n",
      "Epoch 7/30\n",
      "80/80 - 1s - loss: 0.6814 - binary_accuracy: 0.5787 - val_loss: 0.6812 - val_binary_accuracy: 0.5785\n",
      "Epoch 8/30\n",
      "80/80 - 1s - loss: 0.6811 - binary_accuracy: 0.5787 - val_loss: 0.6810 - val_binary_accuracy: 0.5785\n",
      "Epoch 9/30\n",
      "80/80 - 1s - loss: 0.6809 - binary_accuracy: 0.5787 - val_loss: 0.6809 - val_binary_accuracy: 0.5785\n",
      "Epoch 10/30\n",
      "80/80 - 1s - loss: 0.6809 - binary_accuracy: 0.5787 - val_loss: 0.6809 - val_binary_accuracy: 0.5785\n",
      "Epoch 11/30\n",
      "80/80 - 1s - loss: 0.6808 - binary_accuracy: 0.5787 - val_loss: 0.6808 - val_binary_accuracy: 0.5785\n",
      "Epoch 12/30\n",
      "80/80 - 1s - loss: 0.6808 - binary_accuracy: 0.5787 - val_loss: 0.6808 - val_binary_accuracy: 0.5785\n",
      "Epoch 13/30\n",
      "80/80 - 1s - loss: 0.6808 - binary_accuracy: 0.5787 - val_loss: 0.6808 - val_binary_accuracy: 0.5785\n",
      "Epoch 14/30\n",
      "80/80 - 1s - loss: 0.6808 - binary_accuracy: 0.5787 - val_loss: 0.6808 - val_binary_accuracy: 0.5785\n",
      "Epoch 15/30\n",
      "80/80 - 1s - loss: 0.6808 - binary_accuracy: 0.5787 - val_loss: 0.6808 - val_binary_accuracy: 0.5785\n",
      "Epoch 16/30\n",
      "80/80 - 1s - loss: 0.6808 - binary_accuracy: 0.5787 - val_loss: 0.6808 - val_binary_accuracy: 0.5785\n",
      "Epoch 17/30\n",
      "80/80 - 1s - loss: 0.6808 - binary_accuracy: 0.5787 - val_loss: 0.6808 - val_binary_accuracy: 0.5785\n",
      "Epoch 18/30\n",
      "80/80 - 1s - loss: 0.6808 - binary_accuracy: 0.5787 - val_loss: 0.6808 - val_binary_accuracy: 0.5785\n",
      "Epoch 19/30\n",
      "80/80 - 1s - loss: 0.6808 - binary_accuracy: 0.5787 - val_loss: 0.6808 - val_binary_accuracy: 0.5785\n",
      "Epoch 20/30\n",
      "80/80 - 1s - loss: 0.6808 - binary_accuracy: 0.5787 - val_loss: 0.6808 - val_binary_accuracy: 0.5785\n",
      "Epoch 21/30\n",
      "80/80 - 1s - loss: 0.6808 - binary_accuracy: 0.5787 - val_loss: 0.6808 - val_binary_accuracy: 0.5785\n",
      "Epoch 22/30\n",
      "80/80 - 1s - loss: 0.6808 - binary_accuracy: 0.5787 - val_loss: 0.6808 - val_binary_accuracy: 0.5785\n",
      "Epoch 23/30\n",
      "80/80 - 1s - loss: 0.6808 - binary_accuracy: 0.5787 - val_loss: 0.6808 - val_binary_accuracy: 0.5785\n",
      "Epoch 24/30\n",
      "80/80 - 1s - loss: 0.6808 - binary_accuracy: 0.5787 - val_loss: 0.6808 - val_binary_accuracy: 0.5785\n",
      "Epoch 25/30\n",
      "80/80 - 1s - loss: 0.6808 - binary_accuracy: 0.5787 - val_loss: 0.6808 - val_binary_accuracy: 0.5785\n",
      "Epoch 26/30\n",
      "80/80 - 1s - loss: 0.6808 - binary_accuracy: 0.5787 - val_loss: 0.6808 - val_binary_accuracy: 0.5785\n",
      "Epoch 27/30\n",
      "80/80 - 1s - loss: 0.6808 - binary_accuracy: 0.5787 - val_loss: 0.6808 - val_binary_accuracy: 0.5785\n",
      "Epoch 28/30\n",
      "80/80 - 1s - loss: 0.6808 - binary_accuracy: 0.5787 - val_loss: 0.6808 - val_binary_accuracy: 0.5785\n",
      "Epoch 29/30\n",
      "80/80 - 1s - loss: 0.6808 - binary_accuracy: 0.5787 - val_loss: 0.6808 - val_binary_accuracy: 0.5785\n",
      "Epoch 30/30\n",
      "80/80 - 1s - loss: 0.6808 - binary_accuracy: 0.5787 - val_loss: 0.6808 - val_binary_accuracy: 0.5785\n"
     ]
    }
   ],
   "source": [
    "model.compile(\n",
    "    optimizer='adam',\n",
    "    loss='binary_crossentropy',\n",
    "    metrics=['binary_accuracy'],\n",
    ")\n",
    "\n",
    "history = model.fit(\n",
    "    ds_train,\n",
    "    validation_data=ds_valid,\n",
    "    epochs=30,\n",
    "    verbose=2,\n",
    ")"
   ]
  },
  {
   "cell_type": "code",
   "execution_count": 21,
   "metadata": {},
   "outputs": [
    {
     "data": {
      "image/png": "[encoded data removed]",
      "text/plain": [
       "<Figure size 432x288 with 1 Axes>"
      ]
     },
     "metadata": {
      "needs_background": "light"
     },
     "output_type": "display_data"
    },
    {
     "data": {
      "image/png": "[encoded data removed]",
      "text/plain": [
       "<Figure size 432x288 with 1 Axes>"
      ]
     },
     "metadata": {
      "needs_background": "light"
     },
     "output_type": "display_data"
    }
   ],
   "source": [
    "history_frame = pd.DataFrame(history.history)\n",
    "history_frame.loc[:, ['loss', 'val_loss']].plot()\n",
    "history_frame.loc[:, ['binary_accuracy', 'val_binary_accuracy']].plot();"
   ]
  }
 ],
 "metadata": {
  "colab": {
   "provenance": []
  },
  "kernelspec": {
   "display_name": "Python 3",
   "language": "python",
   "name": "python3"
  },
  "language_info": {
   "codemirror_mode": {
    "name": "ipython",
    "version": 3
   },
   "file_extension": ".py",
   "mimetype": "text/x-python",
   "name": "python",
   "nbconvert_exporter": "python",
   "pygments_lexer": "ipython3",
   "version": "3.7.3"
  }
 },
 "nbformat": 4,
 "nbformat_minor": 1
}
